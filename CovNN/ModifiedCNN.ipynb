{
 "cells": [
  {
   "cell_type": "markdown",
   "metadata": {},
   "source": [
    "# introduction\n",
    "进阶CNN包括两种网络：NiN、GoogLeNet。与经典CNN不同的是，卷积层后不再接多个全连接层，而是做一个全局求平均的操作，这样每个通道只剩一个值，k个通道就相当于k个特征，然后再接一个全连接层即可。"
   ]
  }
 ],
 "metadata": {
  "language_info": {
   "name": "python"
  },
  "orig_nbformat": 4
 },
 "nbformat": 4,
 "nbformat_minor": 2
}
