{
 "cells": [
  {
   "cell_type": "markdown",
   "source": [
    "# 基于SAGEConv 和 DGL库的 GNN网络模型\n",
    "SAGEConv 是 Graph SAmple and aggreGatE的缩写，大致过程如下：\n",
    "1. 对图中每个顶点邻居顶点进行采样，通过 message函数，将邻居节点的信息提取并保存在边上。\n",
    "2. 根据聚合函数(aggregate function)聚合邻居顶点蕴含的信息，或者成为reduce function。\n",
    "3. 使用更新函数(update function)，将当前节点的信息 和 聚合后的消息作为输入，输出新的当前节点信息。"
   ],
   "metadata": {}
  },
  {
   "cell_type": "code",
   "execution_count": null,
   "source": [],
   "outputs": [],
   "metadata": {}
  }
 ],
 "metadata": {
  "orig_nbformat": 4,
  "language_info": {
   "name": "python",
   "version": "3.8.8"
  },
  "kernelspec": {
   "name": "python3",
   "display_name": "Python 3.8.8 64-bit ('base': conda)"
  },
  "interpreter": {
   "hash": "90fb90bed8bda3fdee481d4ac349c2c91be0ad782309a9770e9d87efd85f40c2"
  }
 },
 "nbformat": 4,
 "nbformat_minor": 2
}